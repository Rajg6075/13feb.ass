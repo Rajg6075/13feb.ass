{
 "cells": [
  {
   "cell_type": "code",
   "execution_count": null,
   "id": "c3dbe646-f03f-4d89-b091-2931418a14f6",
   "metadata": {},
   "outputs": [],
   "source": [
    "Q1. Explain why we have to use the Exception class while creating a Custom Exception.\n",
    "ans =\n",
    "\n",
    "Using the Exception class as the base class while creating a Custom Exception in Python is essential because it provides a consistent and standardized way to handle exceptions in the language. \n",
    "The Exception class is at the top of the exception hierarchy in Python, making it a suitable choice for defining custom exceptions."
   ]
  },
  {
   "cell_type": "code",
   "execution_count": null,
   "id": "347475b7-8bfe-4fb2-92f9-d779035d4def",
   "metadata": {},
   "outputs": [],
   "source": [
    "Q2. Write a python program to print Python Exception Hierarchy.\n",
    "ans=\n",
    "we can use the help() function to print the Python Exception Hierarchy. The help() function provides documentation on the specified object, and for exception classes, it displays the exception hierarchy.\n",
    "code=\n",
    "def print_exception_hierarchy():\n",
    "    try:\n",
    "        # This will raise an exception to access the exception hierarchy\n",
    "        raise Exception(\"Printing Python Exception Hierarchy\")\n",
    "    except Exception as e:\n",
    "        # Get the class of the exception and print its hierarchy using help()\n",
    "        exception_class = type(e)\n",
    "        help(exception_class)\n",
    "\n",
    "if __name__ == \"__main__\":\n",
    "    print_exception_hierarchy()\n"
   ]
  },
  {
   "cell_type": "code",
   "execution_count": null,
   "id": "62595208-e5f0-4716-9991-b6268e915f7b",
   "metadata": {},
   "outputs": [],
   "source": [
    "Q3. What errors are defined in the ArithmeticError class?\n",
    "ans=\n",
    "In Python, the ArithmeticError class is the base class for exceptions that occur during arithmetic operations. It includes a few specific built-in exception classes that represent various arithmetic errors. The errors defined in the ArithmeticError class are as follows:\n",
    "\n",
    "OverflowError: Raised when an arithmetic operation exceeds the limits of the data type, resulting in an overflow.\n",
    "\n",
    "ZeroDivisionError: Raised when division or modulo operation is performed with zero as the divisor.\n",
    "\n",
    "FloatingPointError: Raised when a floating-point operation fails to produce a valid result, such as overflow or division by zero in floating-point arithmetic"
   ]
  },
  {
   "cell_type": "code",
   "execution_count": null,
   "id": "5e69ccf4-6a27-4cc0-84f0-b7c0bde7f651",
   "metadata": {},
   "outputs": [],
   "source": [
    "Q4. Explain ImportError. What is ModuleNotFoundError?\n",
    "ans=\n",
    "\n",
    "ImportError and ModuleNotFoundError are both Python exceptions that occur when importing modules, but they have some differences in their behavior and use cases.\n",
    "\n",
    "ImportError:\n",
    "ImportError is a generic exception that occurs when an import statement fails to find or load a module. It can happen for various reasons, such as:\n",
    "The module name is misspelled or does not exist.\n",
    "The module is not installed in the Python environment.\n",
    "\n",
    "try:\n",
    "    import non_existent_module\n",
    "except ImportError as e:\n",
    "    print(f\"ImportError: {e}\")\n",
    "\n",
    "ModuleNotFoundError:\n",
    "ModuleNotFoundError is a specific exception introduced in Python 3.6 to provide a more precise error message when a module is not found during import. It is a subclass of ImportError and is raised when the Python interpreter cannot locate the specified module.\n",
    "\n",
    "\n",
    "try:\n",
    "    import non_existent_module\n",
    "except ModuleNotFoundError as e:\n",
    "    print(f\"ModuleNotFoundError: {e}\")\n",
    "\n",
    "    "
   ]
  }
 ],
 "metadata": {
  "kernelspec": {
   "display_name": "Python 3 (ipykernel)",
   "language": "python",
   "name": "python3"
  },
  "language_info": {
   "codemirror_mode": {
    "name": "ipython",
    "version": 3
   },
   "file_extension": ".py",
   "mimetype": "text/x-python",
   "name": "python",
   "nbconvert_exporter": "python",
   "pygments_lexer": "ipython3",
   "version": "3.10.8"
  }
 },
 "nbformat": 4,
 "nbformat_minor": 5
}
